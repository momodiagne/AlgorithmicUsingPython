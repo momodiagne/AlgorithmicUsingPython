{
 "cells": [
  {
   "cell_type": "code",
   "execution_count": 4,
   "metadata": {},
   "outputs": [
    {
     "data": {
      "text/plain": [
       "[2, 4, 5, 7]"
      ]
     },
     "execution_count": 4,
     "metadata": {},
     "output_type": "execute_result"
    }
   ],
   "source": [
    "a=[7,2,5,4]\n",
    "for i in range (len(a)):\n",
    "    m=i\n",
    "    for j in range (i,len(a)):\n",
    "        if a[j]<a[m]:\n",
    "            m=j\n",
    "    a[i], a[m] = a[m], a[i]\n",
    "a"
   ]
  },
  {
   "cell_type": "code",
   "execution_count": null,
   "metadata": {},
   "outputs": [],
   "source": [
    "a=[7,2,5,4]\n",
    "j=0\n",
    "while j<len(a):\n",
    "    for i in range (j+1,len(a)):\n",
    "        if a[i]<a[j]:\n",
    "            a[i], a[j] = a[j], a[i]\n",
    "        j+=1\n",
    "a"
   ]
  },
  {
   "cell_type": "code",
   "execution_count": null,
   "metadata": {},
   "outputs": [],
   "source": []
  }
 ],
 "metadata": {
  "kernelspec": {
   "display_name": "Python 3",
   "language": "python",
   "name": "python3"
  },
  "language_info": {
   "codemirror_mode": {
    "name": "ipython",
    "version": 3
   },
   "file_extension": ".py",
   "mimetype": "text/x-python",
   "name": "python",
   "nbconvert_exporter": "python",
   "pygments_lexer": "ipython3",
   "version": "3.8.10"
  }
 },
 "nbformat": 4,
 "nbformat_minor": 4
}
