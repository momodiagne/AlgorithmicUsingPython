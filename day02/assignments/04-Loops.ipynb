{
 "cells": [
  {
   "cell_type": "markdown",
   "metadata": {},
   "source": [
    "## Loops\n",
    "### 1. Suppose that l=[1,10,11,16,3,5,16,25,23]"
   ]
  },
  {
   "cell_type": "markdown",
   "metadata": {},
   "source": [
    "### Exercise 1: \n",
    "\n",
    "#### Print the values and indices of the list.\n",
    "\n",
    "- Output:\n",
    "```python\n",
    "0 1\n",
    "1 10\n",
    "2 11\n",
    "3 16\n",
    "4 3\n",
    "5 5\n",
    "6 16\n",
    "7 25\n",
    "8 23\n",
    "```"
   ]
  },
  {
   "cell_type": "code",
   "execution_count": 19,
   "metadata": {},
   "outputs": [
    {
     "name": "stdout",
     "output_type": "stream",
     "text": [
      "0 1\n",
      "1 10\n",
      "2 11\n",
      "3 16\n",
      "4 3\n",
      "5 5\n",
      "6 16\n",
      "7 25\n",
      "8 23\n"
     ]
    }
   ],
   "source": [
    "l=[1,10,11,16,3,5,16,25,23]\n",
    "for i in range(len(l)):\n",
    "    print(i, l[i])"
   ]
  },
  {
   "cell_type": "markdown",
   "metadata": {},
   "source": [
    "### Exercise 2: \n",
    "\n",
    "#### Print the odd numbers of the list.\n",
    "\n",
    "- Output\n",
    "```python\n",
    "1\n",
    "11\n",
    "3\n",
    "5\n",
    "25\n",
    "23\n",
    "```"
   ]
  },
  {
   "cell_type": "code",
   "execution_count": 14,
   "metadata": {},
   "outputs": [
    {
     "name": "stdout",
     "output_type": "stream",
     "text": [
      "1\n",
      "11\n",
      "3\n",
      "5\n",
      "25\n",
      "23\n"
     ]
    }
   ],
   "source": [
    "\n",
    "for i in l:\n",
    "    if i%2!=0:\n",
    "        print(i)"
   ]
  },
  {
   "cell_type": "markdown",
   "metadata": {},
   "source": [
    "### Exersise 3: \n",
    "\n",
    "#### Compute the sum of the list.\n",
    "\n",
    "- Output\n",
    "```python\n",
    "s = 110\n",
    "```"
   ]
  },
  {
   "cell_type": "code",
   "execution_count": 6,
   "metadata": {},
   "outputs": [
    {
     "data": {
      "text/plain": [
       "110"
      ]
     },
     "execution_count": 6,
     "metadata": {},
     "output_type": "execute_result"
    }
   ],
   "source": [
    "s=0\n",
    "for i in l:\n",
    "    s+=i\n",
    "s"
   ]
  },
  {
   "cell_type": "markdown",
   "metadata": {},
   "source": [
    "### Exercise 4: \n",
    "\n",
    "#### Calculate the cube of all numbers of the list.\n",
    "\n",
    "- Output\n",
    "```python\n",
    "1\n",
    "100\n",
    "121\n",
    "256\n",
    "9\n",
    "25\n",
    "256\n",
    "625\n",
    "529\n",
    "```"
   ]
  },
  {
   "cell_type": "code",
   "execution_count": 18,
   "metadata": {},
   "outputs": [
    {
     "name": "stdout",
     "output_type": "stream",
     "text": [
      "1\n",
      "100\n",
      "121\n",
      "256\n",
      "9\n",
      "25\n",
      "256\n",
      "625\n",
      "529\n"
     ]
    }
   ],
   "source": [
    "for i in l:\n",
    "    print((pow(i,2)))"
   ]
  },
  {
   "cell_type": "markdown",
   "metadata": {},
   "source": [
    "### Exercise 5: \n",
    "\n",
    "#### Calculate the cube of all numbers of the list.\n",
    "\n",
    "- Output\n",
    "```python\n",
    "1\n",
    "100\n",
    "121\n",
    "256\n",
    "9\n",
    "25\n",
    "256\n",
    "625\n",
    "529\n",
    "```"
   ]
  },
  {
   "cell_type": "code",
   "execution_count": 17,
   "metadata": {},
   "outputs": [
    {
     "name": "stdout",
     "output_type": "stream",
     "text": [
      "1\n",
      "100\n",
      "121\n",
      "256\n",
      "9\n",
      "25\n",
      "256\n",
      "625\n",
      "529\n"
     ]
    }
   ],
   "source": [
    "for i in l:\n",
    "    print((pow(i,2)))"
   ]
  },
  {
   "cell_type": "markdown",
   "metadata": {},
   "source": [
    "### Exercise 6: \n",
    "\n",
    "#### Calculate the cube of all numbers of the list.\n",
    "\n",
    "- Output\n",
    "```python\n",
    "1\n",
    "100\n",
    "121\n",
    "256\n",
    "9\n",
    "25\n",
    "256\n",
    "625\n",
    "529\n",
    "```"
   ]
  },
  {
   "cell_type": "code",
   "execution_count": 15,
   "metadata": {},
   "outputs": [
    {
     "name": "stdout",
     "output_type": "stream",
     "text": [
      "1\n",
      "100\n",
      "121\n",
      "256\n",
      "9\n",
      "25\n",
      "256\n",
      "625\n",
      "529\n"
     ]
    }
   ],
   "source": [
    "for i in l:\n",
    "    print((pow(i,2)))"
   ]
  },
  {
   "cell_type": "markdown",
   "metadata": {},
   "source": [
    "### Exercise 7: \n",
    "\n",
    "#### Calculate the cube of all numbers of the list.\n",
    "\n",
    "- Output\n",
    "```python\n",
    "1\n",
    "100\n",
    "121\n",
    "256\n",
    "9\n",
    "25\n",
    "256\n",
    "625\n",
    "529\n",
    "```"
   ]
  },
  {
   "cell_type": "code",
   "execution_count": 16,
   "metadata": {},
   "outputs": [
    {
     "name": "stdout",
     "output_type": "stream",
     "text": [
      "1\n",
      "100\n",
      "121\n",
      "256\n",
      "9\n",
      "25\n",
      "256\n",
      "625\n",
      "529\n"
     ]
    }
   ],
   "source": [
    "for i in l:\n",
    "    print((pow(i,2)))"
   ]
  },
  {
   "cell_type": "markdown",
   "metadata": {},
   "source": [
    "### 2. Suppose that M=[[1,3,5], [9,13,4], [8,4,1], [10,31,15]]\n",
    "### Exercise 1: \n",
    "\n",
    "#### Print the indices and values of the list.\n",
    "\n",
    "- Output\n",
    "```python\n",
    "0 0 1\n",
    "0 1 3\n",
    "0 2 5\n",
    "1 0 9\n",
    "1 1 13\n",
    "1 2 4\n",
    "2 0 8\n",
    "2 1 4\n",
    "2 2 1\n",
    "3 0 10\n",
    "3 1 31\n",
    "3 2 15\n",
    "```"
   ]
  },
  {
   "cell_type": "code",
   "execution_count": 22,
   "metadata": {},
   "outputs": [
    {
     "name": "stdout",
     "output_type": "stream",
     "text": [
      "0 0 1\n",
      "0 1 3\n",
      "0 2 5\n",
      "1 0 9\n",
      "1 1 13\n",
      "1 2 4\n",
      "2 0 8\n",
      "2 1 4\n",
      "2 2 1\n",
      "3 0 10\n",
      "3 1 31\n",
      "3 2 15\n"
     ]
    }
   ],
   "source": [
    "M=[[1,3,5], [9,13,4], [8,4,1], [10,31,15]]\n",
    "for i in range(len(M)):\n",
    "    for j in range(len(M[i])):\n",
    "        print(i, j, M[i][j])\n"
   ]
  },
  {
   "cell_type": "markdown",
   "metadata": {},
   "source": [
    "### Exercise 2: \n",
    "\n",
    "#### Print the even numbers of the list.\n",
    "\n",
    "- Output\n",
    "```python\n",
    "4\n",
    "8\n",
    "4\n",
    "10\n",
    "```"
   ]
  },
  {
   "cell_type": "code",
   "execution_count": 11,
   "metadata": {},
   "outputs": [
    {
     "name": "stdout",
     "output_type": "stream",
     "text": [
      "4\n",
      "8\n",
      "4\n",
      "10\n"
     ]
    }
   ],
   "source": [
    "M=[[1,3,5], [9,13,4], [8,4,1], [10,31,15]]\n",
    "for i in M:\n",
    "    for j in i:\n",
    "        if j%2==0:\n",
    "            print(j)"
   ]
  },
  {
   "cell_type": "markdown",
   "metadata": {},
   "source": [
    "### Exercise 3: \n",
    "\n",
    "#### Compute the sum of odd numbers.\n",
    "\n",
    "- Output\n",
    "```python\n",
    "s = 78\n",
    "```"
   ]
  },
  {
   "cell_type": "code",
   "execution_count": 12,
   "metadata": {},
   "outputs": [
    {
     "data": {
      "text/plain": [
       "78"
      ]
     },
     "execution_count": 12,
     "metadata": {},
     "output_type": "execute_result"
    }
   ],
   "source": [
    "s=0\n",
    "for i in M:\n",
    "    for j in i:\n",
    "        if j%2!=0:\n",
    "            s+=j\n",
    "s"
   ]
  },
  {
   "cell_type": "code",
   "execution_count": null,
   "metadata": {},
   "outputs": [],
   "source": []
  }
 ],
 "metadata": {
  "kernelspec": {
   "display_name": "Python 3",
   "language": "python",
   "name": "python3"
  },
  "language_info": {
   "codemirror_mode": {
    "name": "ipython",
    "version": 3
   },
   "file_extension": ".py",
   "mimetype": "text/x-python",
   "name": "python",
   "nbconvert_exporter": "python",
   "pygments_lexer": "ipython3",
   "version": "3.8.10"
  }
 },
 "nbformat": 4,
 "nbformat_minor": 5
}
